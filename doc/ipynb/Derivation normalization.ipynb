{
 "metadata": {
  "name": ""
 },
 "nbformat": 3,
 "nbformat_minor": 0,
 "worksheets": [
  {
   "cells": [
    {
     "cell_type": "markdown",
     "metadata": {},
     "source": [
      "Assume we are given SNP matrix $G \\in \\mathbb{R}^{N,D}$. Standardizing it, will set the mean $\\mu$ to zero and the variance to one for each SNP $j$.\n",
      "\n",
      "The sample variance for SNP $j$ ($\\text{var}_j$) is defined as:\n",
      "$$  \\text{var}_j = \\frac{1}{N} \\sum_{i=1}^N (G_{ij} - \\mu)^2 = \\frac{1}{N} \\sum_{i=1}^N G_{ij}^2 = 1 $$\n",
      "\n",
      "Thus, when computing the sum of squared entries (as in the \"new\" normalization scheme), we get:\n",
      "\n",
      "$$  ss = \\sum_{i=1}^N \\sum_{j=1}^D G_{ij}^2 = \\sum_{j=1}^d N \\cdot \\text{var}_j = N \\sum_{j=1}^d 1 = N \\cdot D $$\n",
      "\n",
      "Thus, normalizing $G$ by $\\sqrt{\\frac{ss}{N}}$ is equivalent to normalizing by $\\sqrt{D}$ if $G$ was unit standardized."
     ]
    },
    {
     "cell_type": "code",
     "collapsed": false,
     "input": [
      "import numpy as np\n",
      "from pysnptools.standardizer.diag_K_to_N import DiagKtoN\n",
      "from pysnptools.standardizer import Unit, Beta\n",
      "\n",
      "N = 10\n",
      "D = 100\n",
      "\n",
      "np.random.seed(42)\n",
      "m = np.random.random((N,D))\n",
      "\n",
      "mu = Unit().standardize(m.copy())\n",
      "\n",
      "# get factor\n",
      "d2 = np.sum(mu**2) / float(N)\n",
      "\n",
      "print \"factor = D\", d2\n",
      "s = DiagKtoN(100)\n",
      "s.standardize(m)\n",
      "K = m.dot(m.T)\n",
      "sum_diag = np.sum(np.diag(K))\n",
      "\n",
      "print \"sum of diagonal\", sum_diag"
     ],
     "language": "python",
     "metadata": {},
     "outputs": [
      {
       "output_type": "stream",
       "stream": "stdout",
       "text": [
        "factor = D 100.0\n",
        "sum of diagonal 100.0\n"
       ]
      }
     ],
     "prompt_number": 20
    },
    {
     "cell_type": "code",
     "collapsed": false,
     "input": [
      "# this may not hold true for other standardizers (e.g. beta)...\n",
      "\n",
      "import numpy as np\n",
      "from pysnptools.standardizer.diag_K_to_N import DiagKtoN\n",
      "from pysnptools.standardizer import Unit, Beta\n",
      "\n",
      "N = 10\n",
      "D = 100\n",
      "\n",
      "np.random.seed(42)\n",
      "m = np.random.random((N,D))\n",
      "\n",
      "mu = Beta().standardize(m.copy())\n",
      "\n",
      "# get factor\n",
      "d2 = np.sum(mu**2) / float(N)\n",
      "\n",
      "print \"D2\", d2\n",
      "s = DiagKtoN(100)\n",
      "s.standardize(m)\n",
      "K = m.dot(m.T)\n",
      "sum_diag = np.sum(np.diag(K))\n",
      "\n",
      "print \"sum of diagonal\", sum_diag"
     ],
     "language": "python",
     "metadata": {},
     "outputs": [
      {
       "output_type": "stream",
       "stream": "stdout",
       "text": [
        "D2 0.0624957032658\n",
        "sum of diagonal 100.0\n"
       ]
      }
     ],
     "prompt_number": 22
    },
    {
     "cell_type": "code",
     "collapsed": false,
     "input": [],
     "language": "python",
     "metadata": {},
     "outputs": []
    }
   ],
   "metadata": {}
  }
 ]
}